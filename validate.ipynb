{
 "cells": [
  {
   "cell_type": "code",
   "execution_count": 1,
   "id": "a18c3fc1-43b8-485a-b94b-8819254604d3",
   "metadata": {},
   "outputs": [],
   "source": [
    "import scipy\n",
    "import scipy.constants"
   ]
  },
  {
   "cell_type": "code",
   "execution_count": 2,
   "id": "98a1aec9-c420-419d-9926-5ec40b3b7e14",
   "metadata": {},
   "outputs": [
    {
     "data": {
      "text/plain": [
       "'1.15.0'"
      ]
     },
     "execution_count": 2,
     "metadata": {},
     "output_type": "execute_result"
    }
   ],
   "source": [
    "scipy.__version__"
   ]
  },
  {
   "cell_type": "code",
   "execution_count": 3,
   "id": "87a29a5a-729b-42ad-87c9-ece3a8dad3ef",
   "metadata": {},
   "outputs": [
    {
     "data": {
      "text/plain": [
       "0.5291772105439999"
      ]
     },
     "execution_count": 3,
     "metadata": {},
     "output_type": "execute_result"
    }
   ],
   "source": [
    "BOHR_TO_ANGSTROM = (\n",
    "    scipy.constants.physical_constants[\"Bohr radius\"][0] / scipy.constants.angstrom\n",
    ")\n",
    "BOHR_TO_ANGSTROM  # 0.5291772105439999 - for 1.15.0"
   ]
  },
  {
   "cell_type": "code",
   "execution_count": 4,
   "id": "d7379756-7af8-427d-925c-e44cc58e391e",
   "metadata": {},
   "outputs": [
    {
     "data": {
      "text/plain": [
       "27.211386245981"
      ]
     },
     "execution_count": 4,
     "metadata": {},
     "output_type": "execute_result"
    }
   ],
   "source": [
    "HARTREE_TO_EV = scipy.constants.physical_constants[\"Hartree energy in eV\"][0]\n",
    "HARTREE_TO_EV  # 27.211386245981 - for 1.15.0"
   ]
  },
  {
   "cell_type": "code",
   "execution_count": null,
   "id": "71dbf168-e5ff-4e5a-b974-20fdf6e54531",
   "metadata": {},
   "outputs": [],
   "source": []
  }
 ],
 "metadata": {
  "kernelspec": {
   "display_name": "Python 3 (ipykernel)",
   "language": "python",
   "name": "python3"
  },
  "language_info": {
   "codemirror_mode": {
    "name": "ipython",
    "version": 3
   },
   "file_extension": ".py",
   "mimetype": "text/x-python",
   "name": "python",
   "nbconvert_exporter": "python",
   "pygments_lexer": "ipython3",
   "version": "3.12.5"
  }
 },
 "nbformat": 4,
 "nbformat_minor": 5
}
